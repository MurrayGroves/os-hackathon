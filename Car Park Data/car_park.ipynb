{
 "cells": [
  {
   "cell_type": "code",
   "execution_count": null,
   "source": [
    "import json\r\n",
    "import requests"
   ],
   "outputs": [],
   "metadata": {}
  },
  {
   "cell_type": "code",
   "execution_count": 101,
   "source": [
    "#Function to get data for each car park and add it to an iterable provided as argument\r\n",
    "PLACES_API_KEY = 'TGaGo40yiiw9EE5RkNnZ6T5o4e2cjMwf'\r\n",
    "def get_car_data(iterable,offset=0):\r\n",
    "    response = requests.get(f'https://api.os.uk/search/places/v1/find?query=Car%20Park&key={PLACES_API_KEY}&fq=classification_code:PP&output_srs=BNG&offset={offset}')\r\n",
    "    string_response = response.content.decode('UTF-8')\r\n",
    "    dict_response = json.loads(string_response)\r\n",
    "    for result in dict_response[\"results\"]:\r\n",
    "        x = int(result[\"DPA\"][\"X_COORDINATE\"])\r\n",
    "        y = int(result[\"DPA\"][\"Y_COORDINATE\"])\r\n",
    "        uprn = result[\"DPA\"][\"UPRN\"]\r\n",
    "        if {\"x\":x,\"y\":y,\"UPRN\":uprn} not in iterable:\r\n",
    "            iterable.append({\"x\":x,\"y\":y,\"UPRN\":uprn})"
   ],
   "outputs": [],
   "metadata": {}
  },
  {
   "cell_type": "code",
   "execution_count": 102,
   "source": [
    "#Gets number of results found so the program knows how many times to offset data\r\n",
    "response = requests.get(f'https://api.os.uk/search/places/v1/find?query=Car%20Park&key={PLACES_API_KEY}&fq=classification_code:PP&output_srs=BNG')\r\n",
    "string_response = response.content.decode('UTF-8')\r\n",
    "dict_response = json.loads(string_response)\r\n",
    "result_num = dict_response['header']['totalresults']\r\n",
    "\r\n",
    "car_data = []\r\n",
    "for i in range(int(result_num/100)):\r\n",
    "    get_car_data(car_data,i*100)"
   ],
   "outputs": [
    {
     "output_type": "stream",
     "name": "stdout",
     "text": [
      "9520\n"
     ]
    }
   ],
   "metadata": {}
  },
  {
   "cell_type": "code",
   "execution_count": 104,
   "source": [
    "#Adds car data to a json file\r\n",
    "with open(r'car_parks.json',\"w\") as file:\r\n",
    "    json.dump(car_data,file)"
   ],
   "outputs": [],
   "metadata": {}
  }
 ],
 "metadata": {
  "orig_nbformat": 4,
  "language_info": {
   "name": "python",
   "version": "3.8.5",
   "mimetype": "text/x-python",
   "codemirror_mode": {
    "name": "ipython",
    "version": 3
   },
   "pygments_lexer": "ipython3",
   "nbconvert_exporter": "python",
   "file_extension": ".py"
  },
  "kernelspec": {
   "name": "python3",
   "display_name": "Python 3.8.5 32-bit"
  },
  "interpreter": {
   "hash": "42c645578d54ae2e6ef0314acd052a380640a4f6de44645fc68492446e4d0adb"
  }
 },
 "nbformat": 4,
 "nbformat_minor": 2
}